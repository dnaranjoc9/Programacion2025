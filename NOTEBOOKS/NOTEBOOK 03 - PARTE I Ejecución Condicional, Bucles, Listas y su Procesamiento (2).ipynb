{
    "cells": [
        {
            "attachments": {},
            "cell_type": "markdown",
            "metadata": {
                "azdata_cell_guid": "5a9661f6-9c22-438b-8530-debb92fea2ff"
            },
            "source": [
                "# NOTEBOOK 03 - PARTE I Ejecución Condicional, Bucles, Listas y su Procesamiento\n",
                "\n",
                "## Fundamentos de Python | UMCA\n",
                "\n",
                "## Profesor: Ing. Andrés Mena Abarca\n",
                "\n",
                "### <mark>**Nombre del estudiante:**</mark> Danny Naranjo Campos\n",
                "\n",
                "* * *\n",
                "\n",
                "## **1\\. Valores Booleanos**\n",
                "\n",
                "### 1.1. **Teoría**\n",
                "\n",
                "En Python, los valores booleanos son un tipo de dato que solo pueden tener dos valores: `True` (verdadero) y `False` (falso). Estos valores son fundamentales para el control de flujo en los programas, permitiendo que se tomen decisiones basadas en condiciones.\n",
                "\n",
                "- `True` y `False` son palabras clave en Python.\n",
                "- Se usan principalmente en expresiones condicionales y bucles.\n",
                "\n",
                "#### **Operadores de comparación**: Estos operadores devuelven un valor booleano como resultado de comparar dos valores.\n",
                "\n",
                "- `==` (igual a)\n",
                "- `!=` (diferente de)\n",
                "- `<`, `>`, `<=`, `>=` (menor, mayor, menor o igual, mayor o igual)\n",
                "\n",
                "### 1.2. **Ejemplo de Código**"
            ]
        },
        {
            "cell_type": "code",
            "execution_count": null,
            "metadata": {
                "azdata_cell_guid": "65553934-e4e4-4b44-aa2e-b234d1a33667",
                "language": "python"
            },
            "outputs": [],
            "source": [
                "# Ejemplo de valores booleanos\n",
                "x = 10\n",
                "y = 20\n",
                "\n",
                "# Operación de comparación\n",
                "es_mayor = x > y  # False porque 10 no es mayor que 20\n",
                "es_igual = x == y  # False porque 10 no es igual a 20\n",
                "\n",
                "print(f\"¿Es {x} mayor que {y}? {es_mayor}\")\n",
                "print(f\"¿Es {x} igual a {y}? {es_igual}\")\n"
            ]
        },
        {
            "attachments": {},
            "cell_type": "markdown",
            "metadata": {
                "azdata_cell_guid": "e75d82f8-c903-459c-b6b4-3cdc9d23ac5c"
            },
            "source": [
                "### <mark>1.3. **Ejercicio Práctico**</mark>\n",
                "\n",
                "**Caso de Aplicación: Evaluación de Edades para una Competencia Deportiva**\n",
                "\n",
                "Imagina que estás organizando una competencia deportiva y necesitas verificar si un participante es elegible para competir en una categoría específica de edad. En esta categoría, los participantes deben tener entre **18 y 30 años** (inclusive). También se deben evaluar dos edades de los participantes, para ver quién es mayor o si tienen la misma edad.\n",
                "\n",
                "El ejercicio requerirá:\n",
                "\n",
                "- Evaluar si un participante es elegible para competir según su edad.\n",
                "- Comparar las edades de dos participantes para determinar quién es mayor.\n",
                "\n",
                "**Proceso**\n",
                "\n",
                "1. **Solicita** <span style=\"color: var(--vscode-foreground);\"> al usuario que ingrese la edad de dos participantes (edad1 y edad2).</span>\n",
                "2. **Verifica** <span style=\"color: var(--vscode-foreground);\"> si cada uno de ellos es elegible para la competencia (la edad debe estar entre 18 y 30 años inclusive).</span>\n",
                "\n",
                "3. **Compara** las edades de los dos participantes:\n",
                "        - ¿Quién es mayor?\n",
                "        - ¿Son de la misma edad?\n",
                "4. **Imprime** resultados detallados de las evaluaciones."
            ]
        },
        {
            "cell_type": "code",
            "execution_count": null,
            "metadata": {
                "azdata_cell_guid": "26417c6c-aa5d-41a9-b7c7-fa268a476a6d",
                "language": "python"
            },
            "outputs": [
                {
                    "ename": "ValueError",
                    "evalue": "invalid literal for int() with base 10: ''",
                    "output_type": "error",
                    "traceback": [
                        "\u001b[31m---------------------------------------------------------------------------\u001b[39m",
                        "\u001b[31mValueError\u001b[39m                                Traceback (most recent call last)",
                        "\u001b[36mCell\u001b[39m\u001b[36m \u001b[39m\u001b[32mIn[3]\u001b[39m\u001b[32m, line 4\u001b[39m\n\u001b[32m      1\u001b[39m \u001b[38;5;66;03m#Respuesta\u001b[39;00m\n\u001b[32m      2\u001b[39m \u001b[38;5;66;03m#Entradas\u001b[39;00m\n\u001b[32m      3\u001b[39m edad1 = \u001b[38;5;28mint\u001b[39m(\u001b[38;5;28minput\u001b[39m(\u001b[33m\"\u001b[39m\u001b[33mIngrese la edad del prime participante: \u001b[39m\u001b[33m\"\u001b[39m))\n\u001b[32m----> \u001b[39m\u001b[32m4\u001b[39m edad2 = \u001b[38;5;28;43mint\u001b[39;49m\u001b[43m(\u001b[49m\u001b[38;5;28;43minput\u001b[39;49m\u001b[43m(\u001b[49m\u001b[33;43m\"\u001b[39;49m\u001b[33;43mIngrese la edad de segundo participante: \u001b[39;49m\u001b[33;43m\"\u001b[39;49m\u001b[43m)\u001b[49m\u001b[43m)\u001b[49m\n\u001b[32m      6\u001b[39m \u001b[38;5;66;03m#PROCESOS\u001b[39;00m\n\u001b[32m      8\u001b[39m \u001b[38;5;28;01mif\u001b[39;00m (edad1 < \u001b[32m30\u001b[39m \u001b[38;5;129;01mand\u001b[39;00m edad1 > \u001b[32m18\u001b[39m):\n",
                        "\u001b[31mValueError\u001b[39m: invalid literal for int() with base 10: ''"
                    ]
                }
            ],
            "source": [
                "#Respuesta\n",
                "#Entradas\n",
                "edad1 = int(input(\"Ingrese la edad del primer participante: \"))\n",
                "edad2 = int(input(\"Ingrese la edad del segundo participante: \"))\n",
                "\n",
                "#PROCESOS\n",
                "\n",
                "if (edad1 < 30 and edad1 > 18):\n",
                "    print('El participante1 puede ingresar a la carrera!')\n",
                "else: \n",
                "    print(\"La edad del participante1 no cumple los requisitos\")\n",
                "if (edad2 < 30 and edad2 > 18):\n",
                "    print(\"El particiánte2 puede ingresar a la carrera!\")\n",
                "else:\n",
                "    print(\"La edad del participante 2 no cumple los requisitos\")\n",
                "   # Salida\n",
                "   \n",
                "   #Comparar las edaddes\n",
                "#edad1 > edad2\n",
                "if edad1 > edad2:\n",
                "    print(\"Participante 1 mayor\")\n",
                "elif edad2 > edad1:\n",
                "    print(\"Participante 2 mayor\")\n",
                "else:\n",
                "    print(\"La misma edad\")\n",
                "\n"
            ]
        },
        {
            "attachments": {},
            "cell_type": "markdown",
            "metadata": {
                "azdata_cell_guid": "7d08ceac-43f5-4144-9a55-2524859d645c"
            },
            "source": [
                "## **2\\. Ejecución Condicional**\n",
                "\n",
                "### 2.1. **Teoría**\n",
                "\n",
                "La ejecución condicional permite que el programa tome decisiones y ejecute diferentes bloques de código basados en ciertas condiciones. En Python, las estructuras condicionales más comunes son `if`, `elif` (else if) y `else`.\n",
                "\n",
                "### **Estructura básica:**\n",
                "\n",
                "```Python\n",
                "if condición:\n",
                "    # Código si la condición es True\n",
                "elif otra_condición:\n",
                "    # Código si otra_condición es True\n",
                "else:\n",
                "    # Código si ninguna condición es True \n",
                "\n",
                "```\n",
                "\n",
                "### 2.2. **Ejemplo de Código: Clasificación de Calificaciones**\n",
                "\n",
                "#### **Contexto:**\n",
                "\n",
                "Imagina que estás desarrollando un sistema para clasificar las calificaciones de un grupo de estudiantes. El sistema debe recibir una calificación y asignar una letra basada en la siguiente escala:\n",
                "\n",
                "- Si la calificación es mayor o igual a 90, el estudiante obtiene una **A**.\n",
                "- Si la calificación está entre 80 y 89, el estudiante obtiene una **B**.\n",
                "- Si la calificación está entre 70 y 79, el estudiante obtiene una **C**.\n",
                "- Si la calificación está entre 60 y 69, el estudiante obtiene una **D**.\n",
                "- Si la calificación es menor que 60, el estudiante obtiene una **F**.\n",
                "\n",
                "### **Estructura Condicional**\n",
                "\n",
                "Usaremos una serie de sentencias `if`, `elif` y `else` para implementar esta lógica."
            ]
        },
        {
            "cell_type": "code",
            "execution_count": 10,
            "metadata": {
                "azdata_cell_guid": "ac546c59-6cc2-47f1-8b71-daeb61c6475c",
                "language": "python"
            },
            "outputs": [
                {
                    "name": "stdout",
                    "output_type": "stream",
                    "text": [
                        "El estudiante ha obtenido una califiación F.\n"
                    ]
                }
            ],
            "source": [
                "#Respuesta\n",
                "# Ejemplo mejorado: Clasificación de calificaciones de un estudiante\n",
                "# Entradas\n",
                "calificacion = float(input(\"Ingrese la calificación del estudiante: \"))\n",
                "# Procesos\n",
                "if calificacion >= 90:\n",
                "    print(\"El estudiante ha obtenido una calificación A.\")\n",
                "elif calificacion >= 80:\n",
                "    print(\"El estudiante ha obtenido una calificación B.\")\n",
                "elif calificacion >= 70:\n",
                "    print(\"El estudiante ha obtenido una calificación C.\")\n",
                "elif calificacion >= 60:\n",
                "    print(\"El estudiante ha obtenido una calificación D.\")\n",
                "elif calificacion >= 50:\n",
                "    print(\"El estudiante ha obtenido una califiación F.\")\n",
                "    # Salida\n",
                "    #print(\"Fin del programa de calificación.\")\n"
            ]
        },
        {
            "attachments": {},
            "cell_type": "markdown",
            "metadata": {
                "azdata_cell_guid": "90552ad9-627b-42bd-84b0-f87e15cfe087"
            },
            "source": [
                "### <mark>2.3. **Ejercicio Práctico**</mark>\n",
                "\n",
                "### Escribe un programa que pida al usuario ingresar su edad. Luego, el programa debe imprimir si es mayor o menor de edad (asumiendo 18 años como el límite).\n",
                "\n",
                "- El programa pide al usuario ingresar su edad.\n",
                "- Si el usuario ingresa un valor no válido (por ejemplo, texto o números negativos), le solicita nuevamente que ingrese un número válido.\n",
                "- Dependiendo de la edad ingresada, el programa:\n",
                "    - Imprime si es \"menor de edad\" (menor de 18).\n",
                "    - Imprime si es \"mayor de edad\" (18 años o más).\n",
                "    - Opcionalmente, imprime un mensaje especial para niños menores de 13 años o personas mayores de 65 años.\n",
                "- Permite que el usuario repita el proceso tantas veces como desee. \\*\\*\\*OPCIONAL"
            ]
        },
        {
            "cell_type": "code",
            "execution_count": 22,
            "metadata": {
                "azdata_cell_guid": "90b5ee62-7483-4012-88a1-415f1716cb3e",
                "language": "python"
            },
            "outputs": [
                {
                    "name": "stdout",
                    "output_type": "stream",
                    "text": [
                        "La edad de la primera persona es 22 años, es mayor de edad.\n",
                        "La edad de la segunda persona es 72 años, es mayor de edad (persona mayor).\n",
                        "Gracias por usar el programa.\n"
                    ]
                }
            ],
            "source": [
                "def es_edad_valida(entrada):\n",
                "    try:\n",
                "        edad = int(entrada)\n",
                "        if edad < 0:\n",
                "            raise ValueError(\"La edad no puede ser negativa.\")\n",
                "        return edad\n",
                "    except ValueError:\n",
                "        return None\n",
                "\n",
                "def clasificar_edad(edad):\n",
                "    if edad < 13:\n",
                "        return \"menor de edad (niño/a)\"\n",
                "    elif edad < 18:\n",
                "        return \"menor de edad\"\n",
                "    elif edad >= 65:\n",
                "        return \"mayor de edad (persona mayor)\"\n",
                "    else:\n",
                "        return \"mayor de edad\"\n",
                "\n",
                "while True:\n",
                "    # Solicitar edad válida para la primera persona\n",
                "    while True:\n",
                "        entrada1 = input(\"Ingrese la edad de la primera persona: \")\n",
                "        edad1 = es_edad_valida(entrada1)\n",
                "        if edad1 is not None:\n",
                "            break\n",
                "        print(\"Por favor, ingrese una edad válida (número positivo).\")\n",
                "\n",
                "    # Solicitar edad válida para la segunda persona\n",
                "    while True:\n",
                "        entrada2 = input(\"Ingrese la edad de la segunda persona: \")\n",
                "        edad2 = es_edad_valida(entrada2)\n",
                "        if edad2 is not None:\n",
                "            break\n",
                "        print(\"Por favor, ingrese una edad válida (número positivo).\")\n",
                "\n",
                "    # Clasificación\n",
                "    print(f\"La edad de la primera persona es {edad1} años, es {clasificar_edad(edad1)}.\")\n",
                "    print(f\"La edad de la segunda persona es {edad2} años, es {clasificar_edad(edad2)}.\")\n",
                "\n",
                "    # Repetir el proceso\n",
                "    repetir = input(\"¿Desea ingresar otras edades? (s/n): \").lower()\n",
                "    if repetir != 's':\n",
                "        print(\"Gracias por usar el programa.\")\n",
                "        break\n"
            ]
        },
        {
            "attachments": {},
            "cell_type": "markdown",
            "metadata": {
                "azdata_cell_guid": "7a387c19-3988-4cdd-a37b-33becdadbb46"
            },
            "source": [
                "## **3\\. Bucles**\n",
                "\n",
                "### 3.1. **Teoría**\n",
                "\n",
                "Los bucles permiten repetir un bloque de código varias veces. Python tiene dos tipos principales de bucles: `for` y `while`.\n",
                "\n",
                "- **Bucle `for`:** Se utiliza para iterar sobre una secuencia (listas, tuplas, cadenas, etc.).\n",
                "- **Bucle `while`:** Repite un bloque de código mientras una condición sea `True`.\n",
                "\n",
                "### 3.2. **Ejemplo de Código**\n",
                "\n",
                "### \n",
                "\n",
                "- **Bucle `for`:**"
            ]
        },
        {
            "cell_type": "code",
            "execution_count": 27,
            "metadata": {
                "azdata_cell_guid": "12496b36-600f-4f59-8607-58eafbbac4e5",
                "language": "python"
            },
            "outputs": [
                {
                    "name": "stdout",
                    "output_type": "stream",
                    "text": [
                        "Interación número 1\n",
                        "Interación número 2\n",
                        "Interación número 3\n",
                        "Interación número 4\n",
                        "Interación número 5\n",
                        "Interación número 6\n",
                        "Interación número 7\n",
                        "Interación número 8\n",
                        "Interación número 9\n"
                    ]
                }
            ],
            "source": [
                "# Ejemplo de bucle for\n",
                "for i in range(1,10):\n",
                "    print(f'Interación número {i}')\n",
                "    "
            ]
        },
        {
            "cell_type": "code",
            "execution_count": 25,
            "metadata": {},
            "outputs": [
                {
                    "name": "stdout",
                    "output_type": "stream",
                    "text": [
                        "Interación número 0\n",
                        "Interación número 1\n",
                        "Interación número 2\n",
                        "Interación número 3\n",
                        "Interación número 4\n",
                        "Interación número 5\n",
                        "Interación número 6\n",
                        "Interación número 7\n",
                        "Interación número 8\n",
                        "Interación número 9\n"
                    ]
                }
            ],
            "source": [
                "for i in range(10):\n",
                "    print(f'Interación número {i}')"
            ]
        },
        {
            "attachments": {},
            "cell_type": "markdown",
            "metadata": {
                "azdata_cell_guid": "c24a4bae-ea4c-485d-8067-d5e07afb3435",
                "language": "python"
            },
            "source": [
                "### **Caso: Suma de numeros del 1 a la cantidad que defina el usuario.**\n",
                "\n",
                "Vamos a suponer que queremos calcular la suma de los números del 1 a la catidad que deficna el suario. Este caso es útil para entender cómo funciona el bucle `for`, ya que iteramos sobre una secuencia de números y realizamos una operación en cada iteración."
            ]
        },
        {
            "cell_type": "code",
            "execution_count": null,
            "metadata": {
                "azdata_cell_guid": "49c58740-3080-45a0-b119-c5b144581977",
                "language": "python"
            },
            "outputs": [
                {
                    "name": "stdout",
                    "output_type": "stream",
                    "text": [
                        "Iteración número 0\n",
                        "Iteración número 1\n",
                        "Iteración número 2\n",
                        "Iteración número 3\n",
                        "Iteración número 4\n",
                        "Iteración número 5\n",
                        "Iteración número 6\n",
                        "Iteración número 7\n",
                        "Iteración número 8\n",
                        "Iteración número 9\n",
                        "Iteración número 10\n",
                        "Iteración número 11\n",
                        "Iteración número 12\n",
                        "Iteración número 13\n",
                        "Iteración número 14\n",
                        "Iteración número 15\n",
                        "Iteración número 16\n",
                        "Iteración número 17\n",
                        "Iteración número 18\n",
                        "Iteración número 19\n",
                        "Iteración número 20\n",
                        "Iteración número 21\n",
                        "Iteración número 22\n",
                        "Iteración número 23\n",
                        "Iteración número 24\n",
                        "Iteración número 25\n",
                        "Iteración número 26\n",
                        "Iteración número 27\n",
                        "Iteración número 28\n",
                        "Iteración número 29\n",
                        "Iteración número 30\n",
                        "Iteración número 31\n",
                        "Iteración número 32\n",
                        "Iteración número 33\n",
                        "Iteración número 34\n",
                        "Iteración número 35\n",
                        "Iteración número 36\n",
                        "Iteración número 37\n",
                        "Iteración número 38\n",
                        "Iteración número 39\n",
                        "Iteración número 40\n",
                        "Iteración número 41\n",
                        "Iteración número 42\n",
                        "Iteración número 43\n",
                        "Iteración número 44\n",
                        "Iteración número 45\n",
                        "Iteración número 46\n",
                        "Iteración número 47\n",
                        "Iteración número 48\n",
                        "Iteración número 49\n",
                        "Fin del bucle while\n",
                        "\n",
                        "No ingresó ningún valor. Inténtelo de nuevo.\n",
                        "La suma de los números del 1 al 50 es 1275.\n",
                        "La suma de los números del 1 al 22 es 253.\n",
                        "La suma de los números del 1 al 33 es 561.\n",
                        "La suma de los números del 1 al 33 es 561.\n",
                        "La suma de los números del 1 al 56 es 1596.\n"
                    ]
                }
            ],
            "source": [
                "# Ejemplo de bucle while\n",
                "contador = 0\n",
                "while contador < 50:\n",
                "    print(f\"Iteración número {contador}\")\n",
                "    contador += 1\n",
                "\n",
                "print(\"Fin del bucle while\\n\")\n",
                "\n",
                "# Ejemplo de bucle while con condición de parada y suma\n",
                "while True:\n",
                "    entrada = input(\"Ingrese un número positivo (0 para salir): \")\n",
                "    \n",
                "    if entrada.strip() == \"\":\n",
                "        print(\"No ingresó ningún valor. Inténtelo de nuevo.\")\n",
                "        continue\n",
                "\n",
                "    try:\n",
                "        numero = int(entrada)\n",
                "    except ValueError:\n",
                "        print(\"Debe ingresar un número válido. Inténtelo de nuevo.\")\n",
                "        continue\n",
                "\n",
                "    if numero == 0:\n",
                "        print(\"Saliendo del bucle.\")\n",
                "        break\n",
                "    elif numero < 0:\n",
                "        print(\"Debe ingresar un número positivo.\")\n",
                "        continue\n",
                "    else:\n",
                "        suma = sum(range(1, numero + 1))\n",
                "        print(f\"La suma de los números del 1 al {numero} es {suma}.\")\n",
                "\n"
            ]
        },
        {
            "attachments": {},
            "cell_type": "markdown",
            "metadata": {
                "azdata_cell_guid": "c0bcf79f-f9af-4761-81f7-ada74af0a7ec"
            },
            "source": [
                "### \n",
                "\n",
                "- **Bucle** `while`:"
            ]
        },
        {
            "cell_type": "code",
            "execution_count": 4,
            "metadata": {
                "azdata_cell_guid": "a3aaa670-2151-4756-9264-85312d17674a",
                "language": "python",
                "tags": []
            },
            "outputs": [
                {
                    "name": "stdout",
                    "output_type": "stream",
                    "text": [
                        "El número es: 1\n",
                        "Continuando con el número: 2\n",
                        "El numero es: 1\n",
                        "El numero es: 2\n",
                        "El numero es: 3\n",
                        "El numero es: 4\n",
                        "El numero es: 5\n",
                        "El número es 5, se detiene el bucle.\n",
                        "El número es: 2\n",
                        "Continuando con el número: 3\n",
                        "El numero es: 1\n",
                        "El numero es: 2\n",
                        "El numero es: 3\n",
                        "El numero es: 4\n",
                        "El numero es: 5\n",
                        "El número es 5, se detiene el bucle.\n",
                        "El número es: 3\n",
                        "Continuando con el número: 4\n",
                        "El numero es: 1\n",
                        "El numero es: 2\n",
                        "El numero es: 3\n",
                        "El numero es: 4\n",
                        "El numero es: 5\n",
                        "El número es 5, se detiene el bucle.\n",
                        "El número es: 4\n",
                        "El número es 5, se detiene el bucle.\n"
                    ]
                }
            ],
            "source": [
                "# Ejemplo de bucle while\n",
                "numero = 1\n",
                "while numero <= 10:\n",
                "    print(f\"El número es: {numero}\")\n",
                "    numero += 1\n",
                "    # Si el número es 5, se detiene el bucle\n",
                "    if numero == 5:\n",
                "        print(\"El número es 5, se detiene el bucle.\")\n",
                "        break\n",
                "    # Si el número es 8, se salta la interación\n",
                "    if numero == 8:\n",
                "        print(\"El número es 8, se salta esta iteración.\")\n",
                "        continue\n",
                "    print(f\"Continuando con el número: {numero}\")\n",
                "    #print(\"Fin del bucle while.\\n\")\n",
                "    # Ejemplo de bucle for\n",
                "    for i in range(1, 11):\n",
                "        print(f\"El numero es: {i}\")\n",
                "        # Si el número es 5, se detiene el bucle\n",
                "        if i == 5:\n",
                "            print(\"El número es 5, se detiene el bucle.\")\n",
                "            break\n"
            ]
        },
        {
            "attachments": {},
            "cell_type": "markdown",
            "metadata": {
                "azdata_cell_guid": "2d7802f8-ded4-4357-8ac4-69fd427f1a51",
                "language": "python"
            },
            "source": [
                "### **Caso: Cálculo de Total de Compras**\n",
                "\n",
                "#### <span style=\"color: var(--vscode-foreground); font-weight: normal;\">Imagina que estás desarrollando un pequeño programa para una tienda. Los clientes ingresan el precio de varios productos que están comprando, uno por uno. El programa debe seguir pidiendo el precio de cada producto hasta que el usuario indique que no va a ingresar más productos, y al final, debe calcular y mostrar el total a pagar.</span>"
            ]
        },
        {
            "cell_type": "code",
            "execution_count": null,
            "metadata": {
                "azdata_cell_guid": "fd2a5e98-6e47-475a-9006-7510558a271c",
                "language": "python",
                "tags": []
            },
            "outputs": [],
            "source": [
                "#Respuesta\n",
                "def calcular_total_compras():\n",
                "    total = 0  # Inicializamos el total en 0\n",
                "    while True:\n",
                "        try:\n",
                "            # Pedir el precio del producto\n",
                "            precio = float(input(\"Ingresa el precio del producto (o escribe '0' para terminar): \"))\n",
                "            \n",
                "            # Verificar si el usuario quiere terminar\n",
                "            if precio == 0:\n",
                "                break  # Salir del bucle si el precio es 0\n",
                "            \n",
                "            if precio < 0:\n",
                "                print(\"El precio no puede ser negativo. Intenta de nuevo.\")\n",
                "                continue  # Volver a pedir el precio si es negativo\n",
                "\n",
                "            # Sumar el precio al total\n",
                "            total += precio\n",
                "\n",
                "        except ValueError:\n",
                "            print(\"Por favor, ingresa un número válido para el precio.\")\n",
                "\n",
                "    # Mostrar el total\n",
                "    print(f\"El total de tu compra es: ${total:.2f}\")\n",
                "\n",
                "# Ejecutar el programa\n",
                "calcular_total_compras()"
            ]
        },
        {
            "attachments": {},
            "cell_type": "markdown",
            "metadata": {
                "azdata_cell_guid": "10864839-331a-4069-8cb9-58123740ec63"
            },
            "source": [
                "### <mark>3.3. **Ejercicio Práctico -** Tabla de Multiplicar</mark>\n",
                "\n",
                "**Descripción:** Crea un programa que pida al usuario un número entero `n` y muestre la tabla de multiplicar de ese número del 1 al 10. Utiliza un ciclo `while` para generar la tabla.\n",
                "\n",
                "**Instrucciones:**\n",
                "\n",
                "1. Solicita al usuario que ingrese un número entero.\n",
                "2. Inicializa una variable `i` en 1.\n",
                "3. Utiliza un ciclo `while` para que mientras `i` sea menor o igual a 10:\n",
                "    - Multiplica `n` por `i` y muestra el resultado en el formato \"n x i = resultado\".\n",
                "    - Incrementa `i` en 1.\n",
                "4. Al final, muestra la tabla completa.\n",
                "\n",
                "**Ejemplo de salida:**\n",
                "\n",
                "```\n",
                "\n",
                "Ingrese un número entero: 3\n",
                "Tabla de multiplicar de 3:\n",
                "\n",
                "3 x 1 = 3\n",
                "3 x 2 = 6\n",
                "3 x 3 = 9\n",
                "3 x 4 = 12\n",
                "3 x 5 = 15\n",
                "3 x 6 = 18\n",
                "3 x 7 = 21\n",
                "3 x 8 = 24\n",
                "3 x 9 = 27\n",
                "3 x 10 = 30\n",
                "\n",
                "```"
            ]
        },
        {
            "cell_type": "code",
            "execution_count": null,
            "metadata": {
                "azdata_cell_guid": "0ac67dcf-9e16-4022-94c3-fd2af98a43fd",
                "language": "python"
            },
            "outputs": [],
            "source": [
                "#Respuesta\n",
                "def calcular_total_compras():\n",
                "    total = 0 # Inicializamos el total en 0\n",
                "    while True:\n",
                "        try:\n",
                "            # pedir el precio del producto\n",
                "            precio = float(input(\"Ingresa el precio del producto (o escribe '0' para terminar): \"))\n",
                "            # verificar si el usuario quiere terminar\n",
                "            if precio == 0:\n",
                "                break # Salir del bucle si el precio es 0\n",
                "            if precio < 0:\n",
                "                print(\"El precio puede ser negativo o cero. Intenta de nuevo.\")\n",
                "                continue\n",
                "            # Sumar el precio al total\n",
                "            total += precio\n",
                "        except ValueError:\n",
                "            print(\"Por favor, ingresa un número válido para el precio.\")\n",
                "            # Mostrar el total\n",
                "            print(f\"El total de tu compra es: ${total:.2f}\")\n",
                "            # Ejecutar el porgrama\n",
                "            calcular_total_compras()\n",
                "            # Ejecutar el programa\n",
                "            calcular_total_compras()\n",
                "            # Ejecutar el programa\n",
                "            calcular_total_compras()\n",
                "            # Ejecutar el programa\n",
                "            calcular_total_compras()\n",
                "            # Ejecutar el programa\n",
                "            calcular_total_compras()\n",
                "            # Ejecutar el programa"
            ]
        },
        {
            "attachments": {},
            "cell_type": "markdown",
            "metadata": {
                "azdata_cell_guid": "57643192-1d41-4b05-9716-bb07f2c061fe",
                "language": "python"
            },
            "source": [
                "#### <mark>3.3. Ejercicio Práctico</mark>\n",
                "\n",
                "Escribe un programa que imprima los números del 1 al 10 usando un bucle for. Luego, realiza el mismo ejercicio con un bucle while."
            ]
        },
        {
            "cell_type": "code",
            "execution_count": null,
            "metadata": {
                "azdata_cell_guid": "f3753d98-fffa-464b-aa95-e6129cc6c3b6",
                "language": "python"
            },
            "outputs": [],
            "source": [
                "#Respuesta"
            ]
        },
        {
            "attachments": {},
            "cell_type": "markdown",
            "metadata": {
                "azdata_cell_guid": "34bbf155-7b0d-4faf-afd8-162d9192da2b",
                "language": "python"
            },
            "source": [
                "**Caso 2: Suma de Números**\n",
                "- **Presentación:** Supongamos que tienes una lista de números y quieres calcular la suma total. ¿Cómo podrías hacer esto en Python?    \n",
                "- **Salida Esperada:**    \n",
                "    - La suma total de los números en la lista.\n",
                "- **Preguntas adicionales:**    \n",
                "    - ¿Cómo podrías calcular el promedio de los números?\n",
                "    - ¿Y si quisieras encontrar el número más grande y el más pequeño?\n",
                "    - ¿Puedes modificar el código para que solo sume los números pares?"
            ]
        },
        {
            "cell_type": "code",
            "execution_count": null,
            "metadata": {},
            "outputs": [],
            "source": []
        },
        {
            "attachments": {},
            "cell_type": "markdown",
            "metadata": {
                "azdata_cell_guid": "08d5eece-75c3-4e51-83b9-9388510c5dd5"
            },
            "source": [
                "## **4\\. Listas y su Procesamiento**\n",
                "\n",
                "### 4.1. **Teoría**\n",
                "\n",
                "Una lista es una estructura de datos en Python que almacena múltiples elementos en un solo objeto. Las listas son mutables, lo que significa que podemos modificar su contenido después de haberlas creado.\n",
                "\n",
                "### **Operaciones comunes con listas:**\n",
                "\n",
                "- **Añadir elementos:** `append()`, `insert()`\n",
                "- **Eliminar elementos:** `remove()`, `pop()`\n",
                "- **Acceso a elementos:** Índices\n",
                "- **Slicing:** Obtener sublistas\n",
                "\n",
                "### 4.2. **Ejemplo de Código**"
            ]
        },
        {
            "cell_type": "code",
            "execution_count": null,
            "metadata": {
                "azdata_cell_guid": "4450cc96-4f36-4404-b39b-0aa88f4412e8",
                "language": "python"
            },
            "outputs": [],
            "source": [
                "# Ejemplo de procesamiento de listas\n",
                "#             0        1       2\n",
                "frutas = ['manzana', 'pera', 'uva']\n",
                "\n",
                "print(frutas)\n"
            ]
        },
        {
            "cell_type": "code",
            "execution_count": null,
            "metadata": {},
            "outputs": [],
            "source": [
                "frutas.append(\"fresa\")\n",
                "print(\"frutas\")"
            ]
        },
        {
            "cell_type": "code",
            "execution_count": null,
            "metadata": {},
            "outputs": [],
            "source": [
                "# 0             1       2        3\n",
                "#[\"manzana\", \"pera\", \"uva\", \"fresa\"]\n",
                "frutas.insert(2,\"banano\")\n",
                "print(\"frutas\")"
            ]
        },
        {
            "cell_type": "code",
            "execution_count": null,
            "metadata": {},
            "outputs": [],
            "source": [
                "print(frutas)\n",
                "frutas.remove(\"banano\")\n",
                "print(frutas)"
            ]
        },
        {
            "cell_type": "code",
            "execution_count": null,
            "metadata": {},
            "outputs": [],
            "source": [
                "print(frutas)\n",
                "fruta = frutas,pop(2)\n",
                "print(\"La fruta eliminada es: \", fruta)\n",
                "print(fruta)"
            ]
        },
        {
            "attachments": {},
            "cell_type": "markdown",
            "metadata": {
                "azdata_cell_guid": "f8af47ce-1967-48b9-befe-7c36b15ba133"
            },
            "source": [
                "### <mark>4.3. **Ejercicio Práctico**</mark>\n",
                "\n",
                "Imagina que quieres crear una lista de tus amigos. ¿Cómo podrías almacenar estos nombres en Python? Una vez que tengas la lista, ¿cómo podrías agregar un nuevo amigo? ¿Y cómo podrías saludar a cada uno de ellos?\n",
                "\n",
                "```\n",
                "amigos = [\"Ana\", \"Juan\", \"María\", \"Pedro\"\\] \\# ... (resto del código)\n",
                "\n",
                "```\n",
                "\n",
                "**Salida Esperada:**\n",
                "\n",
                "```\n",
                "- Una lista impresa con todos los nombres de los amigos.\n",
                "- El nombre del tercer amigo.\n",
                "- Un saludo personalizado para cada amigo.\n",
                "\n",
                "```\n",
                "\n",
                "**Preguntas adicionales:**\n",
                "\n",
                "```\n",
                "- ¿Cómo podrías eliminar a un amigo de la lista?\n",
                "- ¿Qué pasa si quieres cambiar el nombre de un amigo?\n",
                "- ¿Puedes ordenar la lista alfabéticamente?\n",
                "\n",
                "```"
            ]
        },
        {
            "cell_type": "code",
            "execution_count": 21,
            "metadata": {
                "azdata_cell_guid": "de9d885b-ca64-4e10-b8c6-8afd4c69239c",
                "language": "python"
            },
            "outputs": [
                {
                    "ename": "IndentationError",
                    "evalue": "unindent does not match any outer indentation level (<string>, line 10)",
                    "output_type": "error",
                    "traceback": [
                        "  \u001b[36mFile \u001b[39m\u001b[32m<string>:10\u001b[39m\n\u001b[31m    \u001b[39m\u001b[31mprint(\"\\nEste es mi primer amigo\")\u001b[39m\n                                      ^\n\u001b[31mIndentationError\u001b[39m\u001b[31m:\u001b[39m unindent does not match any outer indentation level\n"
                    ]
                }
            ],
            "source": [
                "#Respuesta\n",
                "amigos = [\"Dereck\",\"Jariel\",\" Pablo\",\" Anyelo\",\" Adrian\"]\n",
                "\n",
                "# Una lista impresa con todos los nombres de los amigos.\n",
                "print ('Esta es la lista de Mis Amigos')\n",
                "for amigo in amigos:\n",
                "    print(amigo)\n",
                "    \n",
                "   # El nombre del Primer amigo.\n",
                "  print(\"\\nEste es mi primer amigo\")\n",
                "   # Dereck\n",
                "  print(amigos[1]}\n",
                "   \n",
                "   # El nombre del segundo amigo.\n",
                "  print(\"\\nEste es mi sengundo amigo\")\n",
                "   # Jariel\n",
                "  print(amigos[2]}\n",
                "   \n",
                "   # El nombre del tercer amigo,\n",
                "  print(\"\\nEste es mi tercer amigo\")\n",
                "   # Pablo\n",
                "  print(amigos[3]}\n",
                "   \n",
                "   # El nombre del cuarto amigo.\n",
                "  print(\"\\nEste es mí cuarto amigo\")\n",
                "   # Anyelo\n",
                "  print(amigos[4]}\n",
                "   \n",
                "   # El nobre del quinto amigo.\n",
                "  print(\"\\nEste es mi quinto amigo\")\n",
                "   # Adrian\n",
                "  print(amigos[5]}\n",
                "   \n",
                "    # Un saludo personalizado para el primer amigo.\n",
                "  print(f\"Hola {amigos[1]},¿cómo estás Colmillin?\")\n",
                "    # Un saludo personalizado para el sengundo amigo.\n",
                "  print(f\"Hola {amigos[2]},¿cómo estás Stund bailing?\")\n",
                "    # Un saludo personalizado para el tercer amigo.\n",
                "  print(f\"Hola {amigos[3]},¿cómo estás pichon de Mamut?\")\n",
                "    # Un saludo personalizado para el cuarto amigo.\n",
                "  print(f\"Hola {amigos[1]},¿cómo estás Jupa de Maso?\")\n",
                "    # Un saludo personalizado para el quinto amigo.\n",
                "  print(f\"Hola {amigos[5]}, ¿cómo estás Pepe changua?\") "
            ]
        },
        {
            "attachments": {},
            "cell_type": "markdown",
            "metadata": {
                "azdata_cell_guid": "2a24eed7-de3f-4200-86f6-3a3b138d9253"
            },
            "source": [
                "## **4\\. Listas y su Procesamiento**\n",
                "\n",
                "### 4.1. **Teoría**\n",
                "\n",
                "Una lista es una estructura de datos en Python que almacena múltiples elementos en un solo objeto. Las listas son mutables, lo que significa que podemos modificar su contenido después de haberlas creado.\n",
                "\n",
                "### **Operaciones comunes con listas:**\n",
                "\n",
                "- **Añadir elementos:** `append()`, `insert()`\n",
                "- **Eliminar elementos:** `remove()`, `pop()`\n",
                "- **Acceso a elementos:** Índices\n",
                "- **Slicing:** Obtener sublistas\n",
                "\n",
                "### 4.2. **Ejemplo de Código**"
            ]
        },
        {
            "cell_type": "code",
            "execution_count": null,
            "metadata": {
                "azdata_cell_guid": "11f0ac54-2638-45a6-8f22-5268289ac86d",
                "language": "python",
                "tags": []
            },
            "outputs": [],
            "source": [
                "# Ejemplo de procesamiento de listas\n",
                "#             0          1          2"
            ]
        },
        {
            "attachments": {},
            "cell_type": "markdown",
            "metadata": {
                "azdata_cell_guid": "fe863a2c-41ac-4322-a94d-6f2154b12c23",
                "language": "python"
            },
            "source": [
                "**append(elemento):**\n",
                "\n",
                "- Agrega un elemento al final de la lista."
            ]
        },
        {
            "cell_type": "code",
            "execution_count": null,
            "metadata": {
                "azdata_cell_guid": "390d1287-7bdd-43f1-8338-e09b1ab5b9b7",
                "language": "python"
            },
            "outputs": [],
            "source": []
        },
        {
            "attachments": {},
            "cell_type": "markdown",
            "metadata": {
                "azdata_cell_guid": "1feeb01b-5c04-4ba0-bef6-e682262c92ca",
                "language": "python"
            },
            "source": [
                "**insert(índice, elemento):**\n",
                "\n",
                "- Inserta un elemento en una posición específica de la lista.\n",
                "- El índice indica la posición antes de la cual se insertará el elemento."
            ]
        },
        {
            "cell_type": "code",
            "execution_count": null,
            "metadata": {
                "azdata_cell_guid": "7ce0bb35-c66f-4d06-9a89-e0a2dca53266",
                "language": "python"
            },
            "outputs": [],
            "source": []
        },
        {
            "attachments": {},
            "cell_type": "markdown",
            "metadata": {
                "azdata_cell_guid": "26ac0ea0-af16-4b3e-aa56-9442cf11eeb2",
                "language": "python"
            },
            "source": [
                "**remove(elemento):**\n",
                "\n",
                "- Elimina la primera ocurrencia de un elemento específico de la lista.\n",
                "- Si el elemento no existe, se produce un error."
            ]
        },
        {
            "cell_type": "code",
            "execution_count": null,
            "metadata": {
                "azdata_cell_guid": "17b9619a-2b82-48be-b955-f27112bb03cb",
                "language": "python"
            },
            "outputs": [],
            "source": []
        },
        {
            "attachments": {},
            "cell_type": "markdown",
            "metadata": {
                "azdata_cell_guid": "aed96f34-e449-4d8c-b709-d2f5e5b4e4eb",
                "language": "python"
            },
            "source": [
                "**pop(índice):**\n",
                "\n",
                "- Elimina y devuelve el elemento en la posición indicada.\n",
                "- Si no se especifica un índice, elimina y devuelve el último elemento."
            ]
        },
        {
            "cell_type": "code",
            "execution_count": null,
            "metadata": {
                "azdata_cell_guid": "a13c2808-612f-45b2-a935-1dc4333b8677",
                "language": "python"
            },
            "outputs": [],
            "source": []
        },
        {
            "attachments": {},
            "cell_type": "markdown",
            "metadata": {
                "azdata_cell_guid": "ee2dbb3e-efbf-4cb9-aa30-faae355f31fb",
                "language": "python"
            },
            "source": [
                "### **<mark>Caso Final</mark>** \n",
                "\n",
                "  \n",
                "\n",
                "Un profesor quiere llevar un registro de los nombres de sus estudiantes. Ayúdale a crear un programa que le permita agregar nuevos estudiantes, ver la lista completa y acceder a la información de un estudiante en particular."
            ]
        },
        {
            "cell_type": "code",
            "execution_count": null,
            "metadata": {
                "azdata_cell_guid": "9632a0a3-3979-4a34-b08b-82179de35bc0",
                "language": "python"
            },
            "outputs": [],
            "source": []
        }
    ],
    "metadata": {
        "kernelspec": {
            "display_name": "Python 3",
            "language": "python",
            "name": "python3"
        },
        "language_info": {
            "codemirror_mode": {
                "name": "ipython",
                "version": 3
            },
            "file_extension": ".py",
            "mimetype": "text/x-python",
            "name": "python",
            "nbconvert_exporter": "python",
            "pygments_lexer": "ipython3",
            "version": "3.13.3"
        }
    },
    "nbformat": 4,
    "nbformat_minor": 2
}
