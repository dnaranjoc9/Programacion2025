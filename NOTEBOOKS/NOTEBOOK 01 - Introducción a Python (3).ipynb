{
 "cells": [
  {
   "cell_type": "markdown",
   "metadata": {
    "id": "q7R3dARlFtDY"
   },
   "source": [
    "# NOTEBOOK 01 - Introducción a Python\n",
    "## Nombre del estudiante: Danny Naranjo Campos\n",
    "### Actividades\n",
    "* Entornos de desarrollo e instalación del ambiente de programación.\n",
    "  * Instalar Python y Visual Code | Descarga de archivos\n",
    "* Personalizar IDLE:\n",
    "  * Python\n",
    "  * Pylance\n",
    "  * Python Extension Pack\n",
    "  * Panda Theme (Opcional)\n",
    "  * Code Runner\n",
    "  * CodeSnap\n",
    "* ¿Que es Python?\n",
    "* Presentación de las características y sintaxis del lenguaje Python.\n",
    "* Creación de variables usando los tipos de datos elementales. Números, cadenas de texto, booleano y Nulos\n",
    "* Asignación de tareas\n",
    "---"
   ]
  },
  {
   "cell_type": "markdown",
   "metadata": {},
   "source": [
    "## ¿Que es Python?\n",
    "\n",
    "Bueno, ¿sabes qué? Python es un lenguaje de programación absolutamente increíble. Fue creado por Guido van Rossum en 1991, y desde entonces ha sido adoptado por algunas de las empresas más innovadoras y exitosas del mundo, como Google, Facebook y Dropbox.\n",
    "1.\tEs un lenguaje de programación interpretado de alto nivel. Esto significa que el código de Python no necesita ser compilado antes de ser ejecutado, como sucede en otros lenguajes de programación.\n",
    "2.\tFue creado en 1991 por Guido van Rossum en los Países Bajos. El nombre de Python fue inspirado en el grupo de comediantes británicos Monty Python.\n",
    "3.\tEs un lenguaje de programación multiplataforma, lo que significa que se puede ejecutar en diferentes sistemas operativos como Windows, Linux y macOS.\n",
    "4.\tPython es un lenguaje de programación de propósito general, lo que significa que se puede utilizar para crear una amplia variedad de programas y aplicaciones, como aplicaciones de escritorio, aplicaciones web, herramientas de automatización, aplicaciones científicas y de análisis de datos, entre otras.\n",
    "5.\tPython es un lenguaje de programación de código abierto y tiene una gran comunidad de desarrolladores en todo el mundo. Esto significa que hay una gran cantidad de recursos en línea, bibliotecas y módulos disponibles para Python.\n",
    "6.\tPython es conocido por su sintaxis clara y legible, lo que lo hace fácil de aprender para principiantes. La filosofía de diseño de Python se enfoca en la legibilidad del código, lo que significa que el código debe ser fácil de entender y leer para los humanos.\n",
    "7.\tUna de las mayores fortalezas de Python es su amplia colección de bibliotecas y módulos, que permiten a los programadores realizar tareas complejas con muy pocas líneas de código.\n",
    "8.\tPython también es utilizado ampliamente en áreas como la ciencia de datos, la inteligencia artificial, el aprendizaje automático, y la automatización de tareas, gracias a bibliotecas especializadas como NumPy, Pandas, TensorFlow y Selenium, entre otras.\n",
    "\n",
    "\n",
    "\n",
    "El código fuente es el conjunto de instrucciones escritas en un lenguaje de programación específico que un programador escribe para crear un programa de software. El código fuente es el texto que se puede leer y editar con un editor de texto simple. Este código es lo que el compilador o intérprete utiliza para convertir el programa en un formato que la computadora pueda entender y ejecutar.\n",
    "Por otro lado, un IDE (Integrated Development Environment) o Entorno de Desarrollo Integrado en español, es un software que proporciona herramientas y funciones para facilitar el desarrollo de software. Un IDE típicamente incluye un editor de código, un depurador, un compilador o intérprete, herramientas para refactorizar código, y otras características útiles para desarrollar software."
   ]
  },
  {
   "cell_type": "markdown",
   "metadata": {
    "id": "aXc-HjBfC2Co"
   },
   "source": [
    "# Sintaxis y Comentarios\n",
    "*   Comentarios de linea, multiple linea\n",
    "*   Sintaxis identada\n",
    "*   Salidas -> print()\n",
    "\n",
    "\n"
   ]
  },
  {
   "cell_type": "code",
   "execution_count": 25,
   "metadata": {
    "colab": {
     "base_uri": "https://localhost:8080/"
    },
    "executionInfo": {
     "elapsed": 10485,
     "status": "ok",
     "timestamp": 1712064323417,
     "user": {
      "displayName": "Andrés Mena Abarca",
      "userId": "07418092259593836578"
     },
     "user_tz": 360
    },
    "id": "n3rOsUESDeTs",
    "outputId": "1cd40ed7-f1d2-4b89-bca5-696418df0021"
   },
   "outputs": [
    {
     "name": "stdout",
     "output_type": "stream",
     "text": [
      "Hola a todos!\n",
      "Hola grupo \n",
      "10-1 Informática\n"
     ]
    }
   ],
   "source": [
    "'''\n",
    "Esto es un comentario de multilinea \n",
    "puede colocar varias lineas, y se comentan\n",
    "'''\n",
    "\n",
    "print (\"Hola a todos!\") # Esto es un comentario de linea\n",
    "\n",
    "print(\"Hola grupo \\n10-1 Informática\")\n"
   ]
  },
  {
   "cell_type": "markdown",
   "metadata": {
    "id": "xPykWl3ETS5_"
   },
   "source": [
    "* Comillas dobles: Se utilizan para la interpolación de variables y para cadenas de texto que abarcan varias líneas.\n",
    "* Comillas simples: Se utilizan para cadenas de texto simples que no requieren interpolación de variables."
   ]
  },
  {
   "cell_type": "markdown",
   "metadata": {
    "id": "3upOEvooD4h8"
   },
   "source": [
    "\n",
    "\n",
    "---\n",
    "# Trabajemos con los diferentes tipos de datos en Python\n",
    "\n",
    "* String: Cadenas de caracteres ->\"string\"  ->'string'\n",
    "* Enteros\n",
    "* Flotantes -> Decimal\n",
    "* Boleanos # True ->1  False ->0\n",
    "\n",
    "### **La inferencia de tipos en Python:**\n",
    "La inferencia de tipos es una característica de Python que permite al intérprete deducir el tipo de dato de una variable a partir del contexto en el que se usa.\n",
    "\n",
    "### **Sintaxis Variables:**\n",
    "\n",
    "1.   Empezar con una letra o guion bajo (_).\n",
    "2.   Contener solo letras, números y guiones bajos.\n",
    "3.   No ser palabras clave reservadas del lenguaje Python."
   ]
  },
  {
   "cell_type": "code",
   "execution_count": null,
   "metadata": {
    "id": "By8jW6m9EHif",
    "outputId": "f40dd5ab-578c-4153-c3e9-0cde8eadad97"
   },
   "outputs": [],
   "source": [
    "nombre = \"Danny\"\n",
    "Edad = \"16\"\n",
    "\n",
    "print(nombre, \" mi edad es: \",edad)"
   ]
  },
  {
   "cell_type": "markdown",
   "metadata": {
    "id": "Y68Lec-cMkGb"
   },
   "source": [
    "## **Consejos para elegir nombres de variables correctos:**\n",
    "\n",
    "* Ser descriptivos: Deben indicar el contenido de la variable.\n",
    "* Ser cortos y simples: Deben ser fáciles de recordar y escribir.\n",
    "* Ser consistentes: Usar el mismo estilo de mayúsculas y minúsculas.\n",
    "* Evitar palabras clave: No usar palabras reservadas del lenguaje Python.\n",
    "* Utilizar prefijos y sufijos: Se pueden usar para agrupar variables relacionadas.\n",
    "\n",
    "**Ejemplo de nombres de variables correctos:**\n",
    "\n",
    "* nombre_completo: Almacena el nombre completo de una persona.\n",
    "* edad: Almacena la edad de una persona.\n",
    "* lista_de_compras: Almacena una lista de productos para comprar.\n",
    "* oordenada_x: Almacena la coordenada X de un punto."
   ]
  },
  {
   "cell_type": "markdown",
   "metadata": {
    "id": "SWxJC-NqHB43"
   },
   "source": [
    "# Leer Datos -> input\n"
   ]
  },
  {
   "cell_type": "code",
   "execution_count": null,
   "metadata": {
    "id": "3hTS7twHHEmZ"
   },
   "outputs": [],
   "source": [
    "nombre = input(\"Ingrese su nombre porfavor: \")\n",
    "print(\"Mi nombre es: \", nombre)"
   ]
  },
  {
   "cell_type": "markdown",
   "metadata": {
    "id": "wgqsXqXaIYv4"
   },
   "source": [
    "# Operadores aritméticos:\n",
    "\n",
    " * Suma: +\n",
    " * Resta: -\n",
    " * Multiplicación: *\n",
    " * División: /\n",
    " * División entera: //\n",
    " * Módulo (residuo de la división) %"
   ]
  },
  {
   "cell_type": "code",
   "execution_count": 26,
   "metadata": {
    "colab": {
     "base_uri": "https://localhost:8080/"
    },
    "executionInfo": {
     "elapsed": 257,
     "status": "ok",
     "timestamp": 1711933005155,
     "user": {
      "displayName": "Andrés Mena Abarca",
      "userId": "07418092259593836578"
     },
     "user_tz": 360
    },
    "id": "cX0sWCMjHmQ2",
    "outputId": "611d6e18-15d0-401b-a6ba-ad20548da759"
   },
   "outputs": [
    {
     "ename": "KeyboardInterrupt",
     "evalue": "Interrupted by user",
     "output_type": "error",
     "traceback": [
      "\u001b[31m---------------------------------------------------------------------------\u001b[39m",
      "\u001b[31mKeyboardInterrupt\u001b[39m                         Traceback (most recent call last)",
      "\u001b[36mCell\u001b[39m\u001b[36m \u001b[39m\u001b[32mIn[26]\u001b[39m\u001b[32m, line 1\u001b[39m\n\u001b[32m----> \u001b[39m\u001b[32m1\u001b[39m num1 = \u001b[38;5;28;43minput\u001b[39;49m\u001b[43m(\u001b[49m\u001b[33;43m\"\u001b[39;49m\u001b[33;43mIngrese un número:\u001b[39;49m\u001b[33;43m\"\u001b[39;49m\u001b[43m)\u001b[49m\n\u001b[32m      2\u001b[39m num2 = \u001b[38;5;28minput\u001b[39m(\u001b[33m\"\u001b[39m\u001b[33mIngrese el segundo número\u001b[39m\u001b[33m\"\u001b[39m)\n\u001b[32m      4\u001b[39m \u001b[38;5;28mprint\u001b[39m(\u001b[33m\"\u001b[39m\u001b[33mEl resultado de la suma es: \u001b[39m\u001b[33m\"\u001b[39m , num1 +  num2)\n",
      "\u001b[36mFile \u001b[39m\u001b[32m~\\AppData\\Roaming\\Python\\Python313\\site-packages\\ipykernel\\kernelbase.py:1282\u001b[39m, in \u001b[36mKernel.raw_input\u001b[39m\u001b[34m(self, prompt)\u001b[39m\n\u001b[32m   1280\u001b[39m     msg = \u001b[33m\"\u001b[39m\u001b[33mraw_input was called, but this frontend does not support input requests.\u001b[39m\u001b[33m\"\u001b[39m\n\u001b[32m   1281\u001b[39m     \u001b[38;5;28;01mraise\u001b[39;00m StdinNotImplementedError(msg)\n\u001b[32m-> \u001b[39m\u001b[32m1282\u001b[39m \u001b[38;5;28;01mreturn\u001b[39;00m \u001b[38;5;28;43mself\u001b[39;49m\u001b[43m.\u001b[49m\u001b[43m_input_request\u001b[49m\u001b[43m(\u001b[49m\n\u001b[32m   1283\u001b[39m \u001b[43m    \u001b[49m\u001b[38;5;28;43mstr\u001b[39;49m\u001b[43m(\u001b[49m\u001b[43mprompt\u001b[49m\u001b[43m)\u001b[49m\u001b[43m,\u001b[49m\n\u001b[32m   1284\u001b[39m \u001b[43m    \u001b[49m\u001b[38;5;28;43mself\u001b[39;49m\u001b[43m.\u001b[49m\u001b[43m_parent_ident\u001b[49m\u001b[43m[\u001b[49m\u001b[33;43m\"\u001b[39;49m\u001b[33;43mshell\u001b[39;49m\u001b[33;43m\"\u001b[39;49m\u001b[43m]\u001b[49m\u001b[43m,\u001b[49m\n\u001b[32m   1285\u001b[39m \u001b[43m    \u001b[49m\u001b[38;5;28;43mself\u001b[39;49m\u001b[43m.\u001b[49m\u001b[43mget_parent\u001b[49m\u001b[43m(\u001b[49m\u001b[33;43m\"\u001b[39;49m\u001b[33;43mshell\u001b[39;49m\u001b[33;43m\"\u001b[39;49m\u001b[43m)\u001b[49m\u001b[43m,\u001b[49m\n\u001b[32m   1286\u001b[39m \u001b[43m    \u001b[49m\u001b[43mpassword\u001b[49m\u001b[43m=\u001b[49m\u001b[38;5;28;43;01mFalse\u001b[39;49;00m\u001b[43m,\u001b[49m\n\u001b[32m   1287\u001b[39m \u001b[43m\u001b[49m\u001b[43m)\u001b[49m\n",
      "\u001b[36mFile \u001b[39m\u001b[32m~\\AppData\\Roaming\\Python\\Python313\\site-packages\\ipykernel\\kernelbase.py:1325\u001b[39m, in \u001b[36mKernel._input_request\u001b[39m\u001b[34m(self, prompt, ident, parent, password)\u001b[39m\n\u001b[32m   1322\u001b[39m \u001b[38;5;28;01mexcept\u001b[39;00m \u001b[38;5;167;01mKeyboardInterrupt\u001b[39;00m:\n\u001b[32m   1323\u001b[39m     \u001b[38;5;66;03m# re-raise KeyboardInterrupt, to truncate traceback\u001b[39;00m\n\u001b[32m   1324\u001b[39m     msg = \u001b[33m\"\u001b[39m\u001b[33mInterrupted by user\u001b[39m\u001b[33m\"\u001b[39m\n\u001b[32m-> \u001b[39m\u001b[32m1325\u001b[39m     \u001b[38;5;28;01mraise\u001b[39;00m \u001b[38;5;167;01mKeyboardInterrupt\u001b[39;00m(msg) \u001b[38;5;28;01mfrom\u001b[39;00m\u001b[38;5;250m \u001b[39m\u001b[38;5;28;01mNone\u001b[39;00m\n\u001b[32m   1326\u001b[39m \u001b[38;5;28;01mexcept\u001b[39;00m \u001b[38;5;167;01mException\u001b[39;00m:\n\u001b[32m   1327\u001b[39m     \u001b[38;5;28mself\u001b[39m.log.warning(\u001b[33m\"\u001b[39m\u001b[33mInvalid Message:\u001b[39m\u001b[33m\"\u001b[39m, exc_info=\u001b[38;5;28;01mTrue\u001b[39;00m)\n",
      "\u001b[31mKeyboardInterrupt\u001b[39m: Interrupted by user"
     ]
    }
   ],
   "source": [
    "#Antes de calcular, se debe realizar la conversión\n",
    "#int(Va el dato a convertir)\n",
    "\n",
    "num1 = int(input(\"Ingrese el primer número:\"))\n",
    "num2 = int(input(\"Ingrese el segundo número\"))\n",
    "\n",
    "print(\"El resultado de la suma es: \" , num1 +  num2)\n",
    "print( \"El resultado de la resta es: \", num1 - num2)"
   ]
  },
  {
   "cell_type": "markdown",
   "metadata": {
    "id": "CzgpMa2tJkC5"
   },
   "source": [
    "# Ejemplo simple de cómo leer y mostrar data"
   ]
  },
  {
   "cell_type": "code",
   "execution_count": null,
   "metadata": {
    "id": "JbFAzFkTJr7v"
   },
   "outputs": [
    {
     "ename": "TypeError",
     "evalue": "can't multiply sequence by non-int of type 'str'",
     "output_type": "error",
     "traceback": [
      "\u001b[31m---------------------------------------------------------------------------\u001b[39m",
      "\u001b[31mTypeError\u001b[39m                                 Traceback (most recent call last)",
      "\u001b[36mCell\u001b[39m\u001b[36m \u001b[39m\u001b[32mIn[28]\u001b[39m\u001b[32m, line 10\u001b[39m\n\u001b[32m      4\u001b[39m altura = \u001b[38;5;28minput\u001b[39m(\u001b[33m\"\u001b[39m\u001b[33mIngrese la altura de triagulo: \u001b[39m\u001b[33m\"\u001b[39m)\n\u001b[32m      5\u001b[39m \u001b[38;5;66;03m# Se muestran los tipos de dato de las variables.\u001b[39;00m\n\u001b[32m      6\u001b[39m \n\u001b[32m      7\u001b[39m \n\u001b[32m      8\u001b[39m \u001b[38;5;66;03m# -----> Proceso \u001b[39;00m\n\u001b[32m      9\u001b[39m \u001b[38;5;66;03m# Se calcula el área del triángulo.\u001b[39;00m\n\u001b[32m---> \u001b[39m\u001b[32m10\u001b[39m area = (\u001b[43mbase\u001b[49m\u001b[43m \u001b[49m\u001b[43m*\u001b[49m\u001b[43m \u001b[49m\u001b[43maltura\u001b[49m) / \u001b[32m2\u001b[39m\n\u001b[32m     13\u001b[39m \u001b[38;5;66;03m# -----> Salida \u001b[39;00m\n\u001b[32m     14\u001b[39m \u001b[38;5;66;03m# Se muestra el resultado del área del triángulo al usuario.\u001b[39;00m\n\u001b[32m     15\u001b[39m \u001b[38;5;28mprint\u001b[39m(\u001b[33mf\u001b[39m\u001b[33m\"\u001b[39m\u001b[33mEl área del triángulo es: \u001b[39m\u001b[38;5;132;01m{\u001b[39;00marea\u001b[38;5;132;01m}\u001b[39;00m\u001b[33m\"\u001b[39m)\n",
      "\u001b[31mTypeError\u001b[39m: can't multiply sequence by non-int of type 'str'"
     ]
    }
   ],
   "source": [
    "# Se solicitan al usuario la base y la altura del triángulo.\n",
    "# -----> Entrada \n",
    "base = int(input(\"Ingreses la base del triangulo: \"))\n",
    "altura = int(input(\"Ingrese la altura de triagulo: \"))\n",
    "# Se muestran los tipos de dato de las variables.\n",
    "\n",
    "\n",
    "# -----> Proceso \n",
    "# Se calcula el área del triángulo.\n",
    "area = (base * altura) / 2\n",
    "\n",
    "\n",
    "# -----> Salida \n",
    "# Se muestra el resultado del área del triángulo al usuario.\n",
    "print(f\"El área del triángulo es: {area}\")\n",
    "\n",
    "# Se espera que el usuario presione una tecla para salir.\n",
    "input(\"Presione una tecla para salir...\")"
   ]
  },
  {
   "cell_type": "markdown",
   "metadata": {
    "id": "nJduay5fUAZG"
   },
   "source": [
    "\n",
    "\n",
    "---\n",
    "# Manejo de Cadenas de Texto en Python\n",
    "En Python, las cadenas de texto (strings) son objetos inmutables que se pueden manipular de diversas maneras. Las operaciones que se pueden realizar sobre las cadenas de texto incluyen:\n",
    "\n",
    "1. **Concatenación:** Se utiliza el operador + para unir dos cadenas de texto."
   ]
  },
  {
   "cell_type": "code",
   "execution_count": null,
   "metadata": {
    "id": "BfYunLoJUaeu"
   },
   "outputs": [],
   "source": [
    "cadena1 = \"Buenas\"\n",
    "cadena2 = \"tardes!\"\n",
    "\n",
    "cadena_concatenada = cadena1 + \" \" + cadena2\n",
    "\n",
    "print(cadena_concatenada)"
   ]
  },
  {
   "cell_type": "markdown",
   "metadata": {
    "id": "Et_GyxAQUYjk"
   },
   "source": [
    "2. **Repetición:** Se utiliza el operador * para repetir una cadena de texto un número determinado de veces.\n"
   ]
  },
  {
   "cell_type": "code",
   "execution_count": null,
   "metadata": {
    "id": "-GcPH1hwUqZJ"
   },
   "outputs": [],
   "source": [
    "cadena = \"Hola\"\n",
    "\n",
    "cadena_repetida = cadena * 5\n",
    "\n",
    "print(cadena_repetida)"
   ]
  },
  {
   "cell_type": "markdown",
   "metadata": {
    "id": "vZ6xLMxvUPJ5"
   },
   "source": [
    "3. **Indexación y corte:**\n",
    "*  Se pueden acceder a los caracteres de una cadena de texto utilizando índices.\n",
    "*  Se pueden obtener subcadenas de una cadena de texto utilizando el operador de corte ([:])."
   ]
  },
  {
   "cell_type": "code",
   "execution_count": null,
   "metadata": {
    "colab": {
     "base_uri": "https://localhost:8080/"
    },
    "executionInfo": {
     "elapsed": 257,
     "status": "ok",
     "timestamp": 1711935831706,
     "user": {
      "displayName": "Andrés Mena Abarca",
      "userId": "07418092259593836578"
     },
     "user_tz": 360
    },
    "id": "I5_veaY9U3i7",
    "outputId": "c99d3854-145e-436c-9542-47d557a53bc2"
   },
   "outputs": [],
   "source": [
    "frase = \"Barca gana la CHAMPIONS el otro año\"\n",
    "\n",
    "print(frase{0})\n",
    "\n",
    "print(frase{0:3})\n",
    "\n",
    "print(frase{8:})\n",
    "\n",
    "print(frace{10})"
   ]
  },
  {
   "cell_type": "code",
   "execution_count": null,
   "metadata": {},
   "outputs": [],
   "source": [
    "#MAYUCULA\n",
    "respuesta = intput(\"Que le gustá a Yariel?\")\n",
    "\n",
    "print(respusta)\n",
    "\n",
    "respuesta = respuesta.upper()\n",
    "print(respuesta)"
   ]
  },
  {
   "cell_type": "code",
   "execution_count": null,
   "metadata": {},
   "outputs": [],
   "source": [
    "respuesta = input(\"Que le gusta a Kenneth?\")\n",
    "respuesta = respuesta.lower()\n",
    "\n",
    "print(respuesta)"
   ]
  },
  {
   "cell_type": "code",
   "execution_count": null,
   "metadata": {},
   "outputs": [],
   "source": [
    "frace_conquista = input(\"cual es su frace favorita para conquistar?\")\n",
    "frase_conquista = frace_conquista.capitaliza()\n",
    "#FracaConquista\n",
    "\n",
    "print(frace_conquista)"
   ]
  },
  {
   "cell_type": "code",
   "execution_count": null,
   "metadata": {},
   "outputs": [],
   "source": [
    "#Reemplazar\n",
    "texto = \"Hola mi nombre es Danny\"\n",
    "texto = texto.replace(\"Hola\",\"Saludos\")\n",
    "\n",
    "print(texto)"
   ]
  },
  {
   "cell_type": "code",
   "execution_count": null,
   "metadata": {},
   "outputs": [],
   "source": [
    "apellido = input(\"Ingrese su apellido: \").upper()\n",
    "print(apellido)"
   ]
  },
  {
   "cell_type": "markdown",
   "metadata": {
    "id": "SLQg3T9PU-ry"
   },
   "source": [
    "4. **Métodos de las cadenas:**Las cadenas de texto en Python tienen una gran cantidad de métodos que se pueden utilizar para realizar diversas operaciones. Algunos de los métodos más comunes son:\n",
    "\n",
    "*  **upper():** Convierte la cadena a mayúsculas.\n",
    "*  **lower():** Convierte la cadena a minúsculas.\n",
    "*  **strip():** Elimina los espacios en blanco al principio y al final de la cadena.\n",
    "*  **find():** Busca la primera aparición de una subcadena en la cadena.\n",
    "*  **replace():** Reemplaza una subcadena por otra en la cadena."
   ]
  },
  {
   "cell_type": "code",
   "execution_count": null,
   "metadata": {
    "id": "eQZJOiezVuIb"
   },
   "outputs": [],
   "source": [
    "#MAYUSCULA\n",
    "texto = \"hola estudiantes\"\n",
    "x = texto.upper()\n",
    "print(x)\n",
    "\n",
    "#MINUSCULA\n",
    "texto = \"hola PROFES\"\n",
    "x = texto.lower()\n",
    "print(x)\n",
    "\n",
    "\n",
    "#CONVERTIR EN MAYUSCULA LA PRIMERA LETRA\n",
    "texto = \"saludos bienvenidos al curso de PYTHON\"\n",
    "x = texto.capitalize()\n",
    "print(x)\n",
    "\n",
    "texto = \"2023 saludos bienvenidos al curso de PYTHON\"\n",
    "x = texto.capitalize()\n",
    "print(x)\n",
    "\n",
    "#INVERSOR\n",
    "texto = \"2023 saludos bienvenidos al CURSO DE PYTHON\"\n",
    "x = texto.swapcase()\n",
    "print(x)\n",
    "\n",
    "#REPLACE\n",
    "texto = \"Hola mi nombre es Andrés\"\n",
    "print(texto.replace(\"Hola\",\"Saludos\"))\n",
    "\n",
    "ced = \"1-1111-1111\"\n",
    "x= ced.replace(\"-\",\"\")\n",
    "print(x)\n",
    "\n",
    "# Comprobar si la cadena solo contiene letras\n",
    "cadena = \"Hola\"\n",
    "print(cadena.isalpha())\n",
    "# True\n",
    "\n",
    "# Comprobar si la cadena solo contiene números\n",
    "cadena = \"123\"\n",
    "print(cadena.isdigit())\n",
    "# True\n",
    "\n",
    "# Buscar la primera aparición de una subcadena\n",
    "cadena = \"Hola mundo!\"\n",
    "print(cadena.find(\"mundo\"))\n",
    "# Salida:\n",
    "# 6\n",
    "\n",
    "#CONTAR CUANTAS VECES APARECE UNA PALABRA\n",
    "txt= \"Este es curso Python y sera muy interactivo muy Python\"\n",
    "x = txt.count(\"Python\")\n",
    "print(x)\n"
   ]
  },
  {
   "cell_type": "markdown",
   "metadata": {
    "id": "RZQRsLrLOEbs"
   },
   "source": [
    "# Convenciones de Python (PEP 8)\n",
    "\n",
    "Las convenciones de Python, también conocidas como PEP 8 (Python Enhancement Proposal 8), son un conjunto de lineamientos para escribir código Python de forma legible, consistente y mantenible. Estas convenciones abarcan desde el estilo de nombrado de variables hasta la estructura del código.\n",
    "\n",
    "## 1. Nombrado:\n",
    "\n",
    "*  **Letras y guiones bajos:** Los nombres de variables, funciones, clases y módulos deben comenzar con una letra o guion bajo y pueden contener letras, números y guiones bajos.\n",
    "*  **Mayúsculas y minúsculas:**\n",
    "Caso serpiente (snake_case): Se utiliza para variables y funciones. Las palabras se separan con guiones bajos. (Ej: total_costo)\n",
    "* **CamelCase:** Se utiliza para clases y nombres de archivos. La primera letra de cada palabra se escribe en mayúscula. (Ej: MiClasePrincipal)\n",
    "* **Constantes:** Se escriben en MAYÚSCULAS_SEPARADAS_POR_GUIONES_BAJOS. (Ej: PI, MAX_VELOCIDAD)\n",
    "Palabras reservadas: Evita usar palabras clave del lenguaje Python como nombres de variables.\n",
    "\n",
    "## 2. Sangría:\n",
    "\n",
    "* **Bloques de código:** La sangría (generalmente 4 espacios) se utiliza para definir bloques de código dentro de funciones, bucles, condicionales, etc. La sangría consistente es crucial para la legibilidad del código.\n",
    "\n",
    "## 3. Comentarios:\n",
    "\n",
    "*  **Docstrings:** Se utilizan para documentar funciones, clases y módulos. Proporcionan información sobre su propósito, parámetros y valores de retorno.\n",
    "*  **Comentarios en línea:** Se utilizan para explicar partes específicas del código y mejorar la comprensión del mismo.\n",
    "\n",
    "\n",
    "## 4. Espacios en blanco:\n",
    "\n",
    "* **Separadores:** Se utilizan espacios en blanco alrededor de operadores, después de comas, antes y después de paréntesis, corchetes y llaves.\n",
    "* **Líneas en blanco:** Se utilizan para separar secciones lógicas del código y mejorar la legibilidad.\n",
    "\n",
    "## 5. Importaciones:\n",
    "\n",
    "* **Módulos estándar:** Se importan al inicio del código utilizando la instrucción import.\n",
    "* **Funciones y clases de otros módulos:** Se importan utilizando la instrucción from <modulo> import <nombre>.\n",
    "\n",
    "#Beneficios de usar las convenciones de Python:\n",
    "\n",
    "* **Legibilidad:** El código es más fácil de leer y comprender para otros programadores.\n",
    "* **Mantenibilidad**: El código es más fácil de modificar y actualizar.\n",
    "* **Colaboración:** Las convenciones facilitan el trabajo en equipo.\n",
    "* **Herramientas:** Muchas herramientas de análisis de código y linters se basan en las convenciones de Python para detectar posibles errores de estilo.\n",
    "\n",
    "\n",
    "Ejemplo de código con las convenciones de Python:"
   ]
  },
  {
   "cell_type": "code",
   "execution_count": null,
   "metadata": {
    "colab": {
     "base_uri": "https://localhost:8080/"
    },
    "executionInfo": {
     "elapsed": 224,
     "status": "ok",
     "timestamp": 1711934569730,
     "user": {
      "displayName": "Andrés Mena Abarca",
      "userId": "07418092259593836578"
     },
     "user_tz": 360
    },
    "id": "gQ2jcJFZQExd",
    "outputId": "ebac5822-4d56-4980-98bf-c46c280e304e"
   },
   "outputs": [],
   "source": [
    "def mi_funcion(param1, param2):\n",
    "  \"\"\"\n",
    "  Esta función realiza una tarea específica.\n",
    "\n",
    "  Parámetros:\n",
    "    param1: El primer parámetro de la función.\n",
    "    param2: El segundo parámetro de la función.\n",
    "\n",
    "  Retorno:\n",
    "    El resultado de la función.\n",
    "  \"\"\"\n",
    "\n",
    "  # Se realiza una operación con los parámetros\n",
    "  resultado = param1 + param2\n",
    "\n",
    "  # Se retorna el resultado\n",
    "  return resultado\n",
    "\n",
    "# Se llama a la función\n",
    "resultado = mi_funcion(10, 20)\n",
    "\n",
    "# Se imprime el resultado\n",
    "print(resultado)\n"
   ]
  },
  {
   "cell_type": "markdown",
   "metadata": {
    "id": "I2UPS1_HQS3k"
   },
   "source": [
    "# Recursos adicionales:\n",
    "\n",
    "* PEP 8 Style Guide for Python Code: [https://peps.python.org/pep-0008/](https://peps.python.org/pep-0008/)\n",
    "* Guía de estilo para el código Python – PEP 8 en Español: [https://recursospython.com/pep8es.pdf](https://recursospython.com/pep8es.pdf)\n",
    "* El Pythonista - Guía de estilos en Python: [https://elpythonista.com/pep-8](https://elpythonista.com/pep-8)"
   ]
  }
 ],
 "metadata": {
  "colab": {
   "provenance": []
  },
  "kernelspec": {
   "display_name": "Python 3",
   "name": "python3"
  },
  "language_info": {
   "codemirror_mode": {
    "name": "ipython",
    "version": 3
   },
   "file_extension": ".py",
   "mimetype": "text/x-python",
   "name": "python",
   "nbconvert_exporter": "python",
   "pygments_lexer": "ipython3",
   "version": "3.13.3"
  }
 },
 "nbformat": 4,
 "nbformat_minor": 0
}
